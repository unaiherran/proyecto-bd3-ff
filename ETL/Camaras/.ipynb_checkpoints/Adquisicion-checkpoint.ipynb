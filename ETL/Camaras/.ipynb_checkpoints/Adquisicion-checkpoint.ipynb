{
 "cells": [
  {
   "cell_type": "code",
   "execution_count": 51,
   "metadata": {},
   "outputs": [],
   "source": [
    "lista_camaras = [['0001', 'http://informo.munimadrid.es/cameras/Camara06303.jpg', 'S', '45.19','41.32', '0'],\n",
    "                ['0002', 'http://informo.munimadrid.es/cameras/Camara06304.jg', 'S', '45.19','41.32', '0'],\n",
    "                ['0003', 'http://informo.munimadrid.es/cameras/Camara06305.jpg', 'S', '45.19','41.32', '0'],\n",
    "                ['0004', 'http://informo.munimadrid.es/cameras/Camara06306.jpg', 'S', '45.19','41.32', '0']]\n",
    "\n",
    "import requests\n",
    "\n",
    "# Variables para el crawler\n",
    "headers = {'User-Agent': 'Crawler para Proyecto Estudiante Big Data - Unai Herran'}\n",
    "\n",
    "OUTPUT_DIR = 'output/'\n",
    "STATUS_REQ = 0\n",
    "OUTPUT_RESOLUTION_HEIGHT = 360\n",
    "OUTPUT_RESOLUTION_WIDTH = 200\n",
    "IMG_OUTPUT_FORMAT = \"JPEG\"\n"
   ]
  },
  {
   "cell_type": "code",
   "execution_count": 27,
   "metadata": {},
   "outputs": [],
   "source": [
    "# cargar fichero con lista de camaras\n",
    "# formato CSV:\n",
    "# ID_Camera, URL, Video/Still, Long, Lat, Status\n",
    "# 0001, http://informo.munimadrid.es/cameras/Camara06303.jpg, S, 45.19,41.32, 0\n",
    "#  0  , 1                                                   , 2, 3    , 4   , 5 \n",
    "# Status:\n",
    "# 0 -> ok\n",
    "# 100 ->\n",
    "\n",
    "#falta probar con video\n"
   ]
  },
  {
   "cell_type": "code",
   "execution_count": 53,
   "metadata": {},
   "outputs": [
    {
     "name": "stdout",
     "output_type": "stream",
     "text": [
      "2019109_1353\n",
      "output/0001_2019109_1353.jpg\n",
      "output/0003_2019109_1353.jpg\n",
      "output/0004_2019109_1353.jpg\n",
      "[['0001', 'http://informo.munimadrid.es/cameras/Camara06303.jpg', 'S', '45.19', '41.32', '0'], ['0002', 'http://informo.munimadrid.es/cameras/Camara06304.jg', 'S', '45.19', '41.32', '1'], ['0003', 'http://informo.munimadrid.es/cameras/Camara06305.jpg', 'S', '45.19', '41.32', '0'], ['0004', 'http://informo.munimadrid.es/cameras/Camara06306.jpg', 'S', '45.19', '41.32', '0']]\n"
     ]
    }
   ],
   "source": [
    "import urllib.request\n",
    "from PIL import Image\n",
    "from io import BytesIO\n",
    "\n",
    "from datetime import datetime\n",
    "\n",
    "fecha=datetime.now()\n",
    "\n",
    "fecha_str = str(fecha.year) + str(fecha.month) + str(fecha.day) + '_' + str(fecha.hour) + str(fecha.minute)\n",
    "\n",
    "print(fecha_str)\n",
    "output_list = []\n",
    "\n",
    "# Para cada camara\n",
    "for camara in lista_camaras:\n",
    "    \n",
    "    ADDRESS = camara[1]\n",
    "    STATUS = int(camara[5])\n",
    "    NAME = OUTPUT_DIR + camara[0] + '_' + fecha_str + '.jpg'\n",
    "    \n",
    "    if STATUS <= STATUS_REQ:\n",
    "        # conectarte a la url\n",
    "        response = requests.get(ADDRESS, headers)\n",
    "\n",
    "        # gestion de errores HTTP\n",
    "        \n",
    "        if response.status_code >= 500: # Server error\n",
    "            #cambiar el estatus de la camara\n",
    "            STATUS += 100\n",
    "        \n",
    "        elif response.status_code >= 400 : # Client Error\n",
    "            STATUS += 10\n",
    "\n",
    "        elif response.status_code == 200:\n",
    "            # ver si es imagen\n",
    "\n",
    "            try:\n",
    "                img = Image.open(BytesIO(response.content))\n",
    "                # resize file\n",
    "                img = img.resize( (OUTPUT_RESOLUTION_WIDTH,OUTPUT_RESOLUTION_HEIGHT), Image.ANTIALIAS) \n",
    "                # save image\n",
    "                img.save(NAME,IMG_OUTPUT_FORMAT)\n",
    "                \n",
    "            except IOError:\n",
    "                STATUS += 1 # archivo no es imagen\n",
    "               \n",
    "        \n",
    "    e = [camara[0], camara[1], camara [2], camara[3], camara[4], str(STATUS)]\n",
    "    \n",
    "    output_list.append(e)\n",
    "\n",
    "#TODO grabar archivo para la proxima vez que hagas el crawl\n",
    "\n",
    "lista_camaras = output_list\n",
    "print(lista_camaras)"
   ]
  },
  {
   "cell_type": "code",
   "execution_count": null,
   "metadata": {},
   "outputs": [],
   "source": [
    "# proceso para ver si una imagen esta duplicada\n",
    "\n"
   ]
  },
  {
   "cell_type": "code",
   "execution_count": null,
   "metadata": {},
   "outputs": [],
   "source": [
    "# algo para sacar todas las urls de camaras de madrid\n"
   ]
  },
  {
   "cell_type": "code",
   "execution_count": 3,
   "metadata": {},
   "outputs": [
    {
     "name": "stdout",
     "output_type": "stream",
     "text": [
      "Requirement already satisfied: opencv-python in /Users/unaiherran1/.pyenv/versions/3.7.3/lib/python3.7/site-packages (4.1.1.26)\r\n",
      "Requirement already satisfied: numpy>=1.14.5 in /Users/unaiherran1/.pyenv/versions/3.7.3/lib/python3.7/site-packages (from opencv-python) (1.17.2)\r\n"
     ]
    }
   ],
   "source": [
    "!pip install opencv-python"
   ]
  },
  {
   "cell_type": "code",
   "execution_count": 1,
   "metadata": {},
   "outputs": [
    {
     "ename": "ModuleNotFoundError",
     "evalue": "No module named 'cv2'",
     "output_type": "error",
     "traceback": [
      "\u001b[0;31m---------------------------------------------------------------------------\u001b[0m",
      "\u001b[0;31mModuleNotFoundError\u001b[0m                       Traceback (most recent call last)",
      "\u001b[0;32m<ipython-input-1-be981eab1c12>\u001b[0m in \u001b[0;36m<module>\u001b[0;34m\u001b[0m\n\u001b[0;32m----> 1\u001b[0;31m \u001b[0;32mimport\u001b[0m \u001b[0mcv2\u001b[0m\u001b[0;34m\u001b[0m\u001b[0;34m\u001b[0m\u001b[0m\n\u001b[0m\u001b[1;32m      2\u001b[0m \u001b[0mvidcap\u001b[0m \u001b[0;34m=\u001b[0m \u001b[0mcv2\u001b[0m\u001b[0;34m.\u001b[0m\u001b[0mVideoCapture\u001b[0m\u001b[0;34m(\u001b[0m\u001b[0;34m'https://www.earthcam.com/js/video/embed.php?type=h264&vid=AbbeyRoadHD1.flv'\u001b[0m\u001b[0;34m)\u001b[0m\u001b[0;34m\u001b[0m\u001b[0;34m\u001b[0m\u001b[0m\n\u001b[1;32m      3\u001b[0m \u001b[0msuccess\u001b[0m\u001b[0;34m,\u001b[0m\u001b[0mimage\u001b[0m \u001b[0;34m=\u001b[0m \u001b[0mvidcap\u001b[0m\u001b[0;34m.\u001b[0m\u001b[0mread\u001b[0m\u001b[0;34m(\u001b[0m\u001b[0;34m)\u001b[0m\u001b[0;34m\u001b[0m\u001b[0;34m\u001b[0m\u001b[0m\n\u001b[1;32m      4\u001b[0m \u001b[0mcount\u001b[0m \u001b[0;34m=\u001b[0m \u001b[0;36m0\u001b[0m\u001b[0;34m\u001b[0m\u001b[0;34m\u001b[0m\u001b[0m\n\u001b[1;32m      5\u001b[0m \u001b[0;32mwhile\u001b[0m \u001b[0msuccess\u001b[0m\u001b[0;34m:\u001b[0m\u001b[0;34m\u001b[0m\u001b[0;34m\u001b[0m\u001b[0m\n",
      "\u001b[0;31mModuleNotFoundError\u001b[0m: No module named 'cv2'"
     ]
    }
   ],
   "source": [
    "import cv2\n",
    "vidcap = cv2.VideoCapture('https://www.earthcam.com/js/video/embed.php?type=h264&vid=AbbeyRoadHD1.flv')\n",
    "success,image = vidcap.read()\n",
    "count = 0\n",
    "while success:\n",
    "    cv2.imwrite(\"frame%d.jpg\" % count, image) # save frame as JPEG file      \n",
    "    success,image = vidcap.read()\n",
    "    print('Read a new frame: ', success)\n",
    "    count += 1"
   ]
  },
  {
   "cell_type": "code",
   "execution_count": 2,
   "metadata": {},
   "outputs": [
    {
     "ename": "ModuleNotFoundError",
     "evalue": "No module named 'cv2'",
     "output_type": "error",
     "traceback": [
      "\u001b[0;31m---------------------------------------------------------------------------\u001b[0m",
      "\u001b[0;31mModuleNotFoundError\u001b[0m                       Traceback (most recent call last)",
      "\u001b[0;32m<ipython-input-2-c8ec22b3e787>\u001b[0m in \u001b[0;36m<module>\u001b[0;34m\u001b[0m\n\u001b[0;32m----> 1\u001b[0;31m \u001b[0;32mimport\u001b[0m \u001b[0mcv2\u001b[0m\u001b[0;34m\u001b[0m\u001b[0;34m\u001b[0m\u001b[0m\n\u001b[0m",
      "\u001b[0;31mModuleNotFoundError\u001b[0m: No module named 'cv2'"
     ]
    }
   ],
   "source": [
    "import cv2"
   ]
  },
  {
   "cell_type": "code",
   "execution_count": null,
   "metadata": {},
   "outputs": [],
   "source": []
  },
  {
   "cell_type": "code",
   "execution_count": null,
   "metadata": {},
   "outputs": [],
   "source": []
  },
  {
   "cell_type": "code",
   "execution_count": null,
   "metadata": {},
   "outputs": [],
   "source": []
  },
  {
   "cell_type": "code",
   "execution_count": null,
   "metadata": {},
   "outputs": [],
   "source": []
  },
  {
   "cell_type": "code",
   "execution_count": null,
   "metadata": {},
   "outputs": [],
   "source": []
  }
 ],
 "metadata": {
  "kernelspec": {
   "display_name": "Python 3",
   "language": "python",
   "name": "python3"
  },
  "language_info": {
   "codemirror_mode": {
    "name": "ipython",
    "version": 3
   },
   "file_extension": ".py",
   "mimetype": "text/x-python",
   "name": "python",
   "nbconvert_exporter": "python",
   "pygments_lexer": "ipython3",
   "version": "3.7.1"
  }
 },
 "nbformat": 4,
 "nbformat_minor": 2
}
